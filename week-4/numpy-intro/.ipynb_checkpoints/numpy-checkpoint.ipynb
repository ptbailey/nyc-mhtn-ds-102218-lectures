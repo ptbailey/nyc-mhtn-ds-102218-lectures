{
 "cells": [
  {
   "cell_type": "code",
   "execution_count": 1,
   "metadata": {},
   "outputs": [],
   "source": [
    "import numpy as np"
   ]
  },
  {
   "cell_type": "markdown",
   "metadata": {},
   "source": [
    "* Faster and easier, and more visual then looping throug things"
   ]
  },
  {
   "cell_type": "markdown",
   "metadata": {},
   "source": [
    "* What is the last problem\n",
    "\n",
    "* Mainly for linear "
   ]
  },
  {
   "cell_type": "markdown",
   "metadata": {},
   "source": [
    "### generating an array with numpy"
   ]
  },
  {
   "cell_type": "code",
   "execution_count": 47,
   "metadata": {
    "scrolled": true
   },
   "outputs": [],
   "source": [
    "full_array = np.full((3, 6, 5), range(2, 12, 2))"
   ]
  },
  {
   "cell_type": "code",
   "execution_count": 64,
   "metadata": {},
   "outputs": [],
   "source": [
    "n_array = np.arange(1, 5)"
   ]
  },
  {
   "cell_type": "code",
   "execution_count": 67,
   "metadata": {},
   "outputs": [
    {
     "data": {
      "text/plain": [
       "2"
      ]
     },
     "execution_count": 67,
     "metadata": {},
     "output_type": "execute_result"
    }
   ],
   "source": [
    "n_array[1]"
   ]
  },
  {
   "cell_type": "code",
   "execution_count": null,
   "metadata": {},
   "outputs": [],
   "source": [
    "### know the location in memory of the starting of n_array\n",
    "# 7654\n",
    "# 7661\n",
    "# 7668\n",
    "\n"
   ]
  },
  {
   "cell_type": "code",
   "execution_count": 69,
   "metadata": {},
   "outputs": [
    {
     "data": {
      "text/plain": [
       "numpy.str_"
      ]
     },
     "execution_count": 69,
     "metadata": {},
     "output_type": "execute_result"
    }
   ],
   "source": [
    "type(n_array.astype('<U21')[0])"
   ]
  },
  {
   "cell_type": "code",
   "execution_count": 66,
   "metadata": {},
   "outputs": [
    {
     "data": {
      "text/plain": [
       "array(['1', '2', '3', '4', '1'], dtype='<U21')"
      ]
     },
     "execution_count": 66,
     "metadata": {},
     "output_type": "execute_result"
    }
   ],
   "source": [
    "np.append(np.arange(1, 5), '1')"
   ]
  },
  {
   "cell_type": "code",
   "execution_count": 20,
   "metadata": {},
   "outputs": [
    {
     "data": {
      "text/plain": [
       "0.10109705998285198"
      ]
     },
     "execution_count": 20,
     "metadata": {},
     "output_type": "execute_result"
    }
   ],
   "source": [
    "np.random.normal(0, .5)"
   ]
  },
  {
   "cell_type": "code",
   "execution_count": 71,
   "metadata": {},
   "outputs": [
    {
     "data": {
      "text/plain": [
       "'121221'"
      ]
     },
     "execution_count": 71,
     "metadata": {},
     "output_type": "execute_result"
    }
   ],
   "source": [
    "str(121221)"
   ]
  },
  {
   "cell_type": "code",
   "execution_count": 46,
   "metadata": {},
   "outputs": [
    {
     "data": {
      "text/plain": [
       "array([[[0, 0, 0],\n",
       "        [1, 1, 1]],\n",
       "\n",
       "       [[0, 1, 2],\n",
       "        [0, 1, 2]]])"
      ]
     },
     "execution_count": 46,
     "metadata": {},
     "output_type": "execute_result"
    }
   ],
   "source": [
    "grid = np.indices((2, 3))\n",
    "grid"
   ]
  },
  {
   "cell_type": "markdown",
   "metadata": {},
   "source": [
    "### Retrieving Data"
   ]
  },
  {
   "cell_type": "code",
   "execution_count": 73,
   "metadata": {},
   "outputs": [],
   "source": [
    "full_array = np.full((6, 5), range(2, 12, 2))"
   ]
  },
  {
   "cell_type": "code",
   "execution_count": 77,
   "metadata": {},
   "outputs": [
    {
     "data": {
      "text/plain": [
       "array([[ 2,  4,  6,  8, 10],\n",
       "       [ 2,  4,  6,  8, 10],\n",
       "       [ 2,  4,  6,  8, 10],\n",
       "       [ 2,  4,  6,  8, 10],\n",
       "       [ 2,  4,  6,  8, 10],\n",
       "       [ 2,  4,  6,  8, 10]])"
      ]
     },
     "execution_count": 77,
     "metadata": {},
     "output_type": "execute_result"
    }
   ],
   "source": [
    "full_array"
   ]
  },
  {
   "cell_type": "code",
   "execution_count": 98,
   "metadata": {},
   "outputs": [
    {
     "data": {
      "text/plain": [
       "(35,)"
      ]
     },
     "execution_count": 98,
     "metadata": {},
     "output_type": "execute_result"
    }
   ],
   "source": [
    "np.append(full_array, np.arange(1, 6)).shape"
   ]
  },
  {
   "cell_type": "code",
   "execution_count": 108,
   "metadata": {},
   "outputs": [
    {
     "data": {
      "text/plain": [
       "(35,)"
      ]
     },
     "execution_count": 108,
     "metadata": {},
     "output_type": "execute_result"
    }
   ],
   "source": [
    "tuple([35])"
   ]
  },
  {
   "cell_type": "code",
   "execution_count": 112,
   "metadata": {},
   "outputs": [
    {
     "data": {
      "text/plain": [
       "array([1, 2, 3])"
      ]
     },
     "execution_count": 112,
     "metadata": {},
     "output_type": "execute_result"
    }
   ],
   "source": [
    "np.arange(1, 4)"
   ]
  },
  {
   "cell_type": "code",
   "execution_count": 110,
   "metadata": {
    "scrolled": true
   },
   "outputs": [
    {
     "data": {
      "text/plain": [
       "array([[ 2],\n",
       "       [ 4],\n",
       "       [ 6],\n",
       "       [ 8],\n",
       "       [10],\n",
       "       [ 2],\n",
       "       [ 4],\n",
       "       [ 6],\n",
       "       [ 8],\n",
       "       [10],\n",
       "       [ 2],\n",
       "       [ 4],\n",
       "       [ 6],\n",
       "       [ 8],\n",
       "       [10],\n",
       "       [ 2],\n",
       "       [ 4],\n",
       "       [ 6],\n",
       "       [ 8],\n",
       "       [10],\n",
       "       [ 2],\n",
       "       [ 4],\n",
       "       [ 6],\n",
       "       [ 8],\n",
       "       [10],\n",
       "       [ 2],\n",
       "       [ 4],\n",
       "       [ 6],\n",
       "       [ 8],\n",
       "       [10],\n",
       "       [ 1],\n",
       "       [ 2],\n",
       "       [ 3],\n",
       "       [ 4],\n",
       "       [ 5],\n",
       "       [ 6],\n",
       "       [ 7],\n",
       "       [ 8],\n",
       "       [ 9],\n",
       "       [10]])"
      ]
     },
     "execution_count": 110,
     "metadata": {},
     "output_type": "execute_result"
    }
   ],
   "source": [
    "np.append(full_array, np.arange(1, 11)).reshape(40, 1)"
   ]
  },
  {
   "cell_type": "code",
   "execution_count": 118,
   "metadata": {},
   "outputs": [],
   "source": [
    "my_matrix = full_array.reshape(5, 6)"
   ]
  },
  {
   "cell_type": "code",
   "execution_count": 119,
   "metadata": {},
   "outputs": [
    {
     "data": {
      "text/plain": [
       "array([[ 2,  4,  6,  8, 10,  2],\n",
       "       [ 4,  6,  8, 10,  2,  4],\n",
       "       [ 6,  8, 10,  2,  4,  6],\n",
       "       [ 8, 10,  2,  4,  6,  8],\n",
       "       [10,  2,  4,  6,  8, 10]])"
      ]
     },
     "execution_count": 119,
     "metadata": {},
     "output_type": "execute_result"
    }
   ],
   "source": [
    "my_matrix"
   ]
  },
  {
   "cell_type": "code",
   "execution_count": 122,
   "metadata": {},
   "outputs": [
    {
     "data": {
      "text/plain": [
       "False"
      ]
     },
     "execution_count": 122,
     "metadata": {},
     "output_type": "execute_result"
    }
   ],
   "source": [
    "3 % 2 == 0"
   ]
  },
  {
   "cell_type": "code",
   "execution_count": 125,
   "metadata": {},
   "outputs": [],
   "source": [
    "matrix_of_booleans = my_matrix % 4 == 0"
   ]
  },
  {
   "cell_type": "code",
   "execution_count": 127,
   "metadata": {},
   "outputs": [
    {
     "data": {
      "text/plain": [
       "array([[ 2,  4,  6,  8, 10,  2],\n",
       "       [ 4,  6,  8, 10,  2,  4],\n",
       "       [ 6,  8, 10,  2,  4,  6],\n",
       "       [ 8, 10,  2,  4,  6,  8],\n",
       "       [10,  2,  4,  6,  8, 10]])"
      ]
     },
     "execution_count": 127,
     "metadata": {},
     "output_type": "execute_result"
    }
   ],
   "source": [
    "my_matrix"
   ]
  },
  {
   "cell_type": "code",
   "execution_count": 139,
   "metadata": {},
   "outputs": [
    {
     "data": {
      "text/plain": [
       "array([ True, False, False, False, False])"
      ]
     },
     "execution_count": 139,
     "metadata": {},
     "output_type": "execute_result"
    }
   ],
   "source": [
    "my_matrix[:, 1] == 4"
   ]
  },
  {
   "cell_type": "code",
   "execution_count": 138,
   "metadata": {},
   "outputs": [
    {
     "data": {
      "text/plain": [
       "array([], shape=(0, 5, 6), dtype=int64)"
      ]
     },
     "execution_count": 138,
     "metadata": {},
     "output_type": "execute_result"
    }
   ],
   "source": [
    "my_matrix[]"
   ]
  },
  {
   "cell_type": "code",
   "execution_count": 126,
   "metadata": {},
   "outputs": [
    {
     "data": {
      "text/plain": [
       "array([[False,  True, False,  True, False, False],\n",
       "       [ True, False,  True, False, False,  True],\n",
       "       [False,  True, False, False,  True, False],\n",
       "       [ True, False, False,  True, False,  True],\n",
       "       [False, False,  True, False,  True, False]])"
      ]
     },
     "execution_count": 126,
     "metadata": {},
     "output_type": "execute_result"
    }
   ],
   "source": [
    "matrix_of_booleans"
   ]
  },
  {
   "cell_type": "code",
   "execution_count": 133,
   "metadata": {},
   "outputs": [
    {
     "data": {
      "text/plain": [
       "array([4, 8, 4, 8, 4, 8, 4, 8, 4, 8, 4, 8])"
      ]
     },
     "execution_count": 133,
     "metadata": {},
     "output_type": "execute_result"
    }
   ],
   "source": [
    "my_matrix[my_matrix % 4 == 0]"
   ]
  },
  {
   "cell_type": "code",
   "execution_count": 78,
   "metadata": {},
   "outputs": [
    {
     "data": {
      "text/plain": [
       "(6, 5)"
      ]
     },
     "execution_count": 78,
     "metadata": {},
     "output_type": "execute_result"
    }
   ],
   "source": [
    "full_array.shape"
   ]
  },
  {
   "cell_type": "markdown",
   "metadata": {},
   "source": [
    "### Work with Wikipedia chart\n"
   ]
  },
  {
   "cell_type": "code",
   "execution_count": 2,
   "metadata": {},
   "outputs": [],
   "source": [
    "list_of_msas = 'https://en.wikipedia.org/wiki/List_of_metropolitan_statistical_areas'"
   ]
  },
  {
   "cell_type": "code",
   "execution_count": 50,
   "metadata": {},
   "outputs": [],
   "source": [
    "import pandas as pd"
   ]
  },
  {
   "cell_type": "code",
   "execution_count": 51,
   "metadata": {},
   "outputs": [],
   "source": [
    "msa_df = pd.read_html(list_of_msas)[1]"
   ]
  },
  {
   "cell_type": "code",
   "execution_count": 52,
   "metadata": {},
   "outputs": [],
   "source": [
    "msa_npa = msa_df\n",
    "array = msa_npa.values"
   ]
  },
  {
   "cell_type": "code",
   "execution_count": 53,
   "metadata": {},
   "outputs": [],
   "source": [
    "my_table = array[1:]"
   ]
  },
  {
   "cell_type": "code",
   "execution_count": 94,
   "metadata": {},
   "outputs": [],
   "source": [
    "places = np.array([array[1] for array in my_table])\n",
    "estimates2017 = np.array([int(array[2]) for array in my_table])\n",
    "estimates2010 = np.array([int(array[3]) for array in my_table])\n",
    "pop_diff = estimates2017 - estimates2010 # population difference from 2010 -2017\n",
    "percent_change = np.array([array[4] for array in my_table])\n"
   ]
  },
  {
   "cell_type": "code",
   "execution_count": 73,
   "metadata": {},
   "outputs": [
    {
     "data": {
      "text/html": [
       "<script>requirejs.config({paths: { 'plotly': ['https://cdn.plot.ly/plotly-latest.min']},});if(!window.Plotly) {{require(['plotly'],function(plotly) {window.Plotly=plotly;});}}</script>"
      ],
      "text/vnd.plotly.v1+html": [
       "<script>requirejs.config({paths: { 'plotly': ['https://cdn.plot.ly/plotly-latest.min']},});if(!window.Plotly) {{require(['plotly'],function(plotly) {window.Plotly=plotly;});}}</script>"
      ]
     },
     "metadata": {},
     "output_type": "display_data"
    }
   ],
   "source": [
    "import plotly.offline as py\n",
    "import plotly.graph_objs as go\n",
    "from plotly.offline import init_notebook_mode\n",
    "\n",
    "import pandas_datareader as web\n",
    "init_notebook_mode(connected = True)"
   ]
  },
  {
   "cell_type": "code",
   "execution_count": 84,
   "metadata": {},
   "outputs": [
    {
     "data": {
      "application/vnd.plotly.v1+json": {
       "data": [
        {
         "type": "bar",
         "uid": "ae13b03c-e919-11e8-a8da-60f81db8add8",
         "x": [
          "New York-Newark-Jersey City, NY-NJ-PA MSA",
          "Los Angeles-Long Beach-Anaheim, CA MSA",
          "Chicago-Naperville-Elgin, IL-IN-WI MSA",
          "Dallas-Fort Worth-Arlington, TX MSA",
          "Houston-The Woodlands-Sugar Land, TX MSA",
          "Washington-Arlington-Alexandria, DC-VA-MD-WV MSA",
          "Miami-Fort Lauderdale-West Palm Beach, FL MSA",
          "Philadelphia-Camden-Wilmington, PA-NJ-DE-MD MSA",
          "Atlanta-Sandy Springs-Roswell, GA MSA",
          "Boston-Cambridge-Newton, MA-NH MSA",
          "Phoenix-Mesa-Scottsdale, AZ MSA",
          "San Francisco-Oakland-Hayward, CA MSA",
          "Riverside-San Bernardino-Ontario, CA MSA",
          "Detroit-Warren-Dearborn, MI MSA",
          "Seattle-Tacoma-Bellevue, WA MSA",
          "Minneapolis-St. Paul-Bloomington, MN-WI MSA",
          "San Diego-Carlsbad, CA MSA",
          "Tampa-St. Petersburg-Clearwater, FL MSA",
          "Denver-Aurora-Lakewood, CO MSA",
          "Baltimore-Columbia-Towson, MD MSA"
         ],
         "y": [
          753466,
          525070,
          71935,
          973448,
          972011,
          580357,
          594189,
          130777,
          598008,
          284129,
          544383,
          391966,
          355819,
          16752,
          427237,
          251759,
          242372,
          308156,
          344745,
          97686
         ]
        }
       ],
       "layout": {
        "title": "Population Difference from 2010-2017 of top 20 Cities"
       }
      },
      "text/html": [
       "<div id=\"30e41922-f258-4819-8180-c19eac4430bf\" style=\"height: 525px; width: 100%;\" class=\"plotly-graph-div\"></div><script type=\"text/javascript\">require([\"plotly\"], function(Plotly) { window.PLOTLYENV=window.PLOTLYENV || {};window.PLOTLYENV.BASE_URL=\"https://plot.ly\";Plotly.newPlot(\"30e41922-f258-4819-8180-c19eac4430bf\", [{\"x\": [\"New York-Newark-Jersey City, NY-NJ-PA MSA\", \"Los Angeles-Long Beach-Anaheim, CA MSA\", \"Chicago-Naperville-Elgin, IL-IN-WI MSA\", \"Dallas-Fort Worth-Arlington, TX MSA\", \"Houston-The Woodlands-Sugar Land, TX MSA\", \"Washington-Arlington-Alexandria, DC-VA-MD-WV MSA\", \"Miami-Fort Lauderdale-West Palm Beach, FL MSA\", \"Philadelphia-Camden-Wilmington, PA-NJ-DE-MD MSA\", \"Atlanta-Sandy Springs-Roswell, GA MSA\", \"Boston-Cambridge-Newton, MA-NH MSA\", \"Phoenix-Mesa-Scottsdale, AZ MSA\", \"San Francisco-Oakland-Hayward, CA MSA\", \"Riverside-San Bernardino-Ontario, CA MSA\", \"Detroit-Warren-Dearborn, MI MSA\", \"Seattle-Tacoma-Bellevue, WA MSA\", \"Minneapolis-St. Paul-Bloomington, MN-WI MSA\", \"San Diego-Carlsbad, CA MSA\", \"Tampa-St. Petersburg-Clearwater, FL MSA\", \"Denver-Aurora-Lakewood, CO MSA\", \"Baltimore-Columbia-Towson, MD MSA\"], \"y\": [753466, 525070, 71935, 973448, 972011, 580357, 594189, 130777, 598008, 284129, 544383, 391966, 355819, 16752, 427237, 251759, 242372, 308156, 344745, 97686], \"type\": \"bar\", \"uid\": \"ae13b03c-e919-11e8-a8da-60f81db8add8\"}], {\"title\": \"Population Difference from 2010-2017 of top 20 Cities\"}, {\"showLink\": true, \"linkText\": \"Export to plot.ly\"})});</script>"
      ],
      "text/vnd.plotly.v1+html": [
       "<div id=\"30e41922-f258-4819-8180-c19eac4430bf\" style=\"height: 525px; width: 100%;\" class=\"plotly-graph-div\"></div><script type=\"text/javascript\">require([\"plotly\"], function(Plotly) { window.PLOTLYENV=window.PLOTLYENV || {};window.PLOTLYENV.BASE_URL=\"https://plot.ly\";Plotly.newPlot(\"30e41922-f258-4819-8180-c19eac4430bf\", [{\"x\": [\"New York-Newark-Jersey City, NY-NJ-PA MSA\", \"Los Angeles-Long Beach-Anaheim, CA MSA\", \"Chicago-Naperville-Elgin, IL-IN-WI MSA\", \"Dallas-Fort Worth-Arlington, TX MSA\", \"Houston-The Woodlands-Sugar Land, TX MSA\", \"Washington-Arlington-Alexandria, DC-VA-MD-WV MSA\", \"Miami-Fort Lauderdale-West Palm Beach, FL MSA\", \"Philadelphia-Camden-Wilmington, PA-NJ-DE-MD MSA\", \"Atlanta-Sandy Springs-Roswell, GA MSA\", \"Boston-Cambridge-Newton, MA-NH MSA\", \"Phoenix-Mesa-Scottsdale, AZ MSA\", \"San Francisco-Oakland-Hayward, CA MSA\", \"Riverside-San Bernardino-Ontario, CA MSA\", \"Detroit-Warren-Dearborn, MI MSA\", \"Seattle-Tacoma-Bellevue, WA MSA\", \"Minneapolis-St. Paul-Bloomington, MN-WI MSA\", \"San Diego-Carlsbad, CA MSA\", \"Tampa-St. Petersburg-Clearwater, FL MSA\", \"Denver-Aurora-Lakewood, CO MSA\", \"Baltimore-Columbia-Towson, MD MSA\"], \"y\": [753466, 525070, 71935, 973448, 972011, 580357, 594189, 130777, 598008, 284129, 544383, 391966, 355819, 16752, 427237, 251759, 242372, 308156, 344745, 97686], \"type\": \"bar\", \"uid\": \"ae13b03c-e919-11e8-a8da-60f81db8add8\"}], {\"title\": \"Population Difference from 2010-2017 of top 20 Cities\"}, {\"showLink\": true, \"linkText\": \"Export to plot.ly\"})});</script>"
      ]
     },
     "metadata": {},
     "output_type": "display_data"
    }
   ],
   "source": [
    "data = [go.Bar(x = places[:20], y = pop_diff[:20])]\n",
    "layout = go.Layout(title = 'Population Difference from 2010-2017 of top 20 Cities')\n",
    "fig = go.Figure(data = data, layout = layout)\n",
    "\n",
    "py.iplot(fig)"
   ]
  },
  {
   "cell_type": "markdown",
   "metadata": {},
   "source": [
    "### Work with President data"
   ]
  },
  {
   "cell_type": "code",
   "execution_count": 131,
   "metadata": {},
   "outputs": [
    {
     "data": {
      "application/vnd.plotly.v1+json": {
       "data": [
        {
         "type": "bar",
         "uid": "83e90fc8-e91e-11e8-a8da-60f81db8add8",
         "x": [
          189,
          170,
          163,
          183,
          171,
          185,
          168,
          173,
          175,
          178,
          193,
          174,
          182,
          180,
          188,
          179,
          177
         ],
         "y": [
          2,
          2,
          1,
          8,
          1,
          3,
          2,
          4,
          2,
          4,
          2,
          1,
          4,
          1,
          3,
          1,
          1
         ]
        }
       ],
       "layout": {
        "title": "Frequency of heights "
       }
      },
      "text/html": [
       "<div id=\"6db18354-dae2-4e86-83b0-d4beea454463\" style=\"height: 525px; width: 100%;\" class=\"plotly-graph-div\"></div><script type=\"text/javascript\">require([\"plotly\"], function(Plotly) { window.PLOTLYENV=window.PLOTLYENV || {};window.PLOTLYENV.BASE_URL=\"https://plot.ly\";Plotly.newPlot(\"6db18354-dae2-4e86-83b0-d4beea454463\", [{\"x\": [189, 170, 163, 183, 171, 185, 168, 173, 175, 178, 193, 174, 182, 180, 188, 179, 177], \"y\": [2, 2, 1, 8, 1, 3, 2, 4, 2, 4, 2, 1, 4, 1, 3, 1, 1], \"type\": \"bar\", \"uid\": \"83e90fc8-e91e-11e8-a8da-60f81db8add8\"}], {\"title\": \"Frequency of heights \"}, {\"showLink\": true, \"linkText\": \"Export to plot.ly\"})});</script>"
      ],
      "text/vnd.plotly.v1+html": [
       "<div id=\"6db18354-dae2-4e86-83b0-d4beea454463\" style=\"height: 525px; width: 100%;\" class=\"plotly-graph-div\"></div><script type=\"text/javascript\">require([\"plotly\"], function(Plotly) { window.PLOTLYENV=window.PLOTLYENV || {};window.PLOTLYENV.BASE_URL=\"https://plot.ly\";Plotly.newPlot(\"6db18354-dae2-4e86-83b0-d4beea454463\", [{\"x\": [189, 170, 163, 183, 171, 185, 168, 173, 175, 178, 193, 174, 182, 180, 188, 179, 177], \"y\": [2, 2, 1, 8, 1, 3, 2, 4, 2, 4, 2, 1, 4, 1, 3, 1, 1], \"type\": \"bar\", \"uid\": \"83e90fc8-e91e-11e8-a8da-60f81db8add8\"}], {\"title\": \"Frequency of heights \"}, {\"showLink\": true, \"linkText\": \"Export to plot.ly\"})});</script>"
      ]
     },
     "metadata": {},
     "output_type": "display_data"
    }
   ],
   "source": [
    "import collections\n",
    "\n",
    "presidents = pd.read_csv('presidents.csv').values\n",
    "pres = [president[1:] for president in presidents]\n",
    "names = [pre[0] for pre in np.array(pres)]\n",
    "heights = [pre[1] for pre in np.array(pres)]\n",
    "\n",
    "n = np.array(names)\n",
    "h = np.array(heights)\n",
    "counter = collections.Counter(h)\n",
    "data = [go.Bar(x = list(counter.keys()), y = list(counter.values()))]\n",
    "layout = go.Layout(title = 'Frequency of heights ')\n",
    "fig = go.Figure(data = data, layout = layout)\n",
    "\n",
    "py.iplot(fig)"
   ]
  },
  {
   "cell_type": "code",
   "execution_count": 165,
   "metadata": {},
   "outputs": [
    {
     "data": {
      "text/plain": [
       "array([6., 5., 6., 5., 6., 5., 6., 5., 5., 6., 5., 5., 5., 5., 6., 6., 5.,\n",
       "       5., 5., 6., 6., 5., 5., 5., 5., 5., 6., 5., 5., 6., 5., 5., 6., 6.,\n",
       "       5., 6., 5., 6., 6., 6., 5., 6.])"
      ]
     },
     "execution_count": 165,
     "metadata": {},
     "output_type": "execute_result"
    }
   ],
   "source": [
    "feet_conv = h/30.48\n",
    "frac,feet = np.modf(feet_conv)\n",
    "inch = frac*12\n",
    "inches = np.around(inch)\n",
    "feet"
   ]
  },
  {
   "cell_type": "code",
   "execution_count": 164,
   "metadata": {},
   "outputs": [
    {
     "data": {
      "text/plain": [
       "(array([ 1,  3,  5,  7,  8, 10, 11, 12, 13, 16, 17, 18, 21, 22, 23, 24, 25,\n",
       "        27, 28, 30, 31, 34, 36, 40]),)"
      ]
     },
     "execution_count": 164,
     "metadata": {},
     "output_type": "execute_result"
    }
   ],
   "source": [
    "np.where(feet < 6)"
   ]
  },
  {
   "cell_type": "markdown",
   "metadata": {},
   "source": [
    "### Work with ESPN data"
   ]
  },
  {
   "cell_type": "code",
   "execution_count": 167,
   "metadata": {},
   "outputs": [],
   "source": [
    "box_score = 'http://www.espn.com/nba/boxscore?gameId=401070872'"
   ]
  },
  {
   "cell_type": "code",
   "execution_count": 178,
   "metadata": {},
   "outputs": [],
   "source": [
    "seventy6ers = pd.read_html(box_score)[1]\n",
    "heat = pd.read_html(box_score)[2]"
   ]
  },
  {
   "cell_type": "code",
   "execution_count": 181,
   "metadata": {},
   "outputs": [
    {
     "data": {
      "text/html": [
       "<div>\n",
       "<style scoped>\n",
       "    .dataframe tbody tr th:only-of-type {\n",
       "        vertical-align: middle;\n",
       "    }\n",
       "\n",
       "    .dataframe tbody tr th {\n",
       "        vertical-align: top;\n",
       "    }\n",
       "\n",
       "    .dataframe thead th {\n",
       "        text-align: right;\n",
       "    }\n",
       "</style>\n",
       "<table border=\"1\" class=\"dataframe\">\n",
       "  <thead>\n",
       "    <tr style=\"text-align: right;\">\n",
       "      <th></th>\n",
       "      <th>Starters</th>\n",
       "      <th>MIN</th>\n",
       "      <th>FG</th>\n",
       "      <th>3PT</th>\n",
       "      <th>FT</th>\n",
       "      <th>OREB</th>\n",
       "      <th>DREB</th>\n",
       "      <th>REB</th>\n",
       "      <th>AST</th>\n",
       "      <th>STL</th>\n",
       "      <th>BLK</th>\n",
       "      <th>TO</th>\n",
       "      <th>PF</th>\n",
       "      <th>+/-</th>\n",
       "      <th>PTS</th>\n",
       "    </tr>\n",
       "  </thead>\n",
       "  <tbody>\n",
       "    <tr>\n",
       "      <th>0</th>\n",
       "      <td>W. ChandlerW. ChandlerSF</td>\n",
       "      <td>23</td>\n",
       "      <td>2-3</td>\n",
       "      <td>1-1</td>\n",
       "      <td>0-0</td>\n",
       "      <td>1.0</td>\n",
       "      <td>0.0</td>\n",
       "      <td>1.0</td>\n",
       "      <td>3.0</td>\n",
       "      <td>1.0</td>\n",
       "      <td>0.0</td>\n",
       "      <td>2.0</td>\n",
       "      <td>2.0</td>\n",
       "      <td>6.0</td>\n",
       "      <td>5.0</td>\n",
       "    </tr>\n",
       "    <tr>\n",
       "      <th>1</th>\n",
       "      <td>J. EmbiidJ. EmbiidC</td>\n",
       "      <td>36</td>\n",
       "      <td>8-15</td>\n",
       "      <td>3-4</td>\n",
       "      <td>16-20</td>\n",
       "      <td>6.0</td>\n",
       "      <td>12.0</td>\n",
       "      <td>18.0</td>\n",
       "      <td>3.0</td>\n",
       "      <td>0.0</td>\n",
       "      <td>0.0</td>\n",
       "      <td>2.0</td>\n",
       "      <td>1.0</td>\n",
       "      <td>12.0</td>\n",
       "      <td>35.0</td>\n",
       "    </tr>\n",
       "    <tr>\n",
       "      <th>2</th>\n",
       "      <td>B. SimmonsB. SimmonsPG</td>\n",
       "      <td>35</td>\n",
       "      <td>5-7</td>\n",
       "      <td>0-0</td>\n",
       "      <td>3-4</td>\n",
       "      <td>2.0</td>\n",
       "      <td>5.0</td>\n",
       "      <td>7.0</td>\n",
       "      <td>7.0</td>\n",
       "      <td>1.0</td>\n",
       "      <td>0.0</td>\n",
       "      <td>4.0</td>\n",
       "      <td>0.0</td>\n",
       "      <td>20.0</td>\n",
       "      <td>13.0</td>\n",
       "    </tr>\n",
       "    <tr>\n",
       "      <th>3</th>\n",
       "      <td>M. FultzM. FultzPG</td>\n",
       "      <td>25</td>\n",
       "      <td>2-8</td>\n",
       "      <td>0-0</td>\n",
       "      <td>1-3</td>\n",
       "      <td>0.0</td>\n",
       "      <td>2.0</td>\n",
       "      <td>2.0</td>\n",
       "      <td>5.0</td>\n",
       "      <td>0.0</td>\n",
       "      <td>0.0</td>\n",
       "      <td>0.0</td>\n",
       "      <td>2.0</td>\n",
       "      <td>-7.0</td>\n",
       "      <td>5.0</td>\n",
       "    </tr>\n",
       "    <tr>\n",
       "      <th>4</th>\n",
       "      <td>J. RedickJ. RedickSG</td>\n",
       "      <td>31</td>\n",
       "      <td>11-20</td>\n",
       "      <td>3-9</td>\n",
       "      <td>0-0</td>\n",
       "      <td>0.0</td>\n",
       "      <td>1.0</td>\n",
       "      <td>1.0</td>\n",
       "      <td>3.0</td>\n",
       "      <td>0.0</td>\n",
       "      <td>0.0</td>\n",
       "      <td>1.0</td>\n",
       "      <td>4.0</td>\n",
       "      <td>11.0</td>\n",
       "      <td>25.0</td>\n",
       "    </tr>\n",
       "    <tr>\n",
       "      <th>5</th>\n",
       "      <td>M. MuscalaM. MuscalaPF</td>\n",
       "      <td>27</td>\n",
       "      <td>3-11</td>\n",
       "      <td>3-10</td>\n",
       "      <td>4-5</td>\n",
       "      <td>0.0</td>\n",
       "      <td>8.0</td>\n",
       "      <td>8.0</td>\n",
       "      <td>1.0</td>\n",
       "      <td>0.0</td>\n",
       "      <td>0.0</td>\n",
       "      <td>0.0</td>\n",
       "      <td>4.0</td>\n",
       "      <td>4.0</td>\n",
       "      <td>13.0</td>\n",
       "    </tr>\n",
       "    <tr>\n",
       "      <th>6</th>\n",
       "      <td>A. JohnsonA. JohnsonC</td>\n",
       "      <td>2</td>\n",
       "      <td>0-1</td>\n",
       "      <td>0-0</td>\n",
       "      <td>0-0</td>\n",
       "      <td>0.0</td>\n",
       "      <td>0.0</td>\n",
       "      <td>0.0</td>\n",
       "      <td>1.0</td>\n",
       "      <td>0.0</td>\n",
       "      <td>0.0</td>\n",
       "      <td>0.0</td>\n",
       "      <td>1.0</td>\n",
       "      <td>2.0</td>\n",
       "      <td>0.0</td>\n",
       "    </tr>\n",
       "    <tr>\n",
       "      <th>7</th>\n",
       "      <td>L. ShametL. ShametPG</td>\n",
       "      <td>24</td>\n",
       "      <td>3-5</td>\n",
       "      <td>2-4</td>\n",
       "      <td>2-2</td>\n",
       "      <td>0.0</td>\n",
       "      <td>0.0</td>\n",
       "      <td>0.0</td>\n",
       "      <td>1.0</td>\n",
       "      <td>0.0</td>\n",
       "      <td>0.0</td>\n",
       "      <td>0.0</td>\n",
       "      <td>4.0</td>\n",
       "      <td>10.0</td>\n",
       "      <td>10.0</td>\n",
       "    </tr>\n",
       "    <tr>\n",
       "      <th>8</th>\n",
       "      <td>T.J. McConnellT.J. McConnellPG</td>\n",
       "      <td>14</td>\n",
       "      <td>0-4</td>\n",
       "      <td>0-2</td>\n",
       "      <td>2-2</td>\n",
       "      <td>0.0</td>\n",
       "      <td>1.0</td>\n",
       "      <td>1.0</td>\n",
       "      <td>0.0</td>\n",
       "      <td>2.0</td>\n",
       "      <td>0.0</td>\n",
       "      <td>0.0</td>\n",
       "      <td>1.0</td>\n",
       "      <td>-15.0</td>\n",
       "      <td>2.0</td>\n",
       "    </tr>\n",
       "    <tr>\n",
       "      <th>9</th>\n",
       "      <td>F. KorkmazF. KorkmazSG</td>\n",
       "      <td>22</td>\n",
       "      <td>5-9</td>\n",
       "      <td>3-6</td>\n",
       "      <td>3-3</td>\n",
       "      <td>1.0</td>\n",
       "      <td>3.0</td>\n",
       "      <td>4.0</td>\n",
       "      <td>0.0</td>\n",
       "      <td>1.0</td>\n",
       "      <td>0.0</td>\n",
       "      <td>0.0</td>\n",
       "      <td>5.0</td>\n",
       "      <td>7.0</td>\n",
       "      <td>16.0</td>\n",
       "    </tr>\n",
       "    <tr>\n",
       "      <th>10</th>\n",
       "      <td>J. BoldenJ. BoldenPF</td>\n",
       "      <td>DNP-COACH'S DECISION</td>\n",
       "      <td>NaN</td>\n",
       "      <td>NaN</td>\n",
       "      <td>NaN</td>\n",
       "      <td>NaN</td>\n",
       "      <td>NaN</td>\n",
       "      <td>NaN</td>\n",
       "      <td>NaN</td>\n",
       "      <td>NaN</td>\n",
       "      <td>NaN</td>\n",
       "      <td>NaN</td>\n",
       "      <td>NaN</td>\n",
       "      <td>NaN</td>\n",
       "      <td>NaN</td>\n",
       "    </tr>\n",
       "    <tr>\n",
       "      <th>11</th>\n",
       "      <td>D. JacksonD. JacksonPG</td>\n",
       "      <td>DNP-COACH'S DECISION</td>\n",
       "      <td>NaN</td>\n",
       "      <td>NaN</td>\n",
       "      <td>NaN</td>\n",
       "      <td>NaN</td>\n",
       "      <td>NaN</td>\n",
       "      <td>NaN</td>\n",
       "      <td>NaN</td>\n",
       "      <td>NaN</td>\n",
       "      <td>NaN</td>\n",
       "      <td>NaN</td>\n",
       "      <td>NaN</td>\n",
       "      <td>NaN</td>\n",
       "      <td>NaN</td>\n",
       "    </tr>\n",
       "    <tr>\n",
       "      <th>12</th>\n",
       "      <td>S. MiltonS. MiltonSG</td>\n",
       "      <td>DNP-COACH'S DECISION</td>\n",
       "      <td>NaN</td>\n",
       "      <td>NaN</td>\n",
       "      <td>NaN</td>\n",
       "      <td>NaN</td>\n",
       "      <td>NaN</td>\n",
       "      <td>NaN</td>\n",
       "      <td>NaN</td>\n",
       "      <td>NaN</td>\n",
       "      <td>NaN</td>\n",
       "      <td>NaN</td>\n",
       "      <td>NaN</td>\n",
       "      <td>NaN</td>\n",
       "      <td>NaN</td>\n",
       "    </tr>\n",
       "    <tr>\n",
       "      <th>13</th>\n",
       "      <td>TEAM</td>\n",
       "      <td>NaN</td>\n",
       "      <td>39-83</td>\n",
       "      <td>15-36</td>\n",
       "      <td>31-39</td>\n",
       "      <td>10.0</td>\n",
       "      <td>32.0</td>\n",
       "      <td>42.0</td>\n",
       "      <td>24.0</td>\n",
       "      <td>5.0</td>\n",
       "      <td>0.0</td>\n",
       "      <td>9.0</td>\n",
       "      <td>24.0</td>\n",
       "      <td>NaN</td>\n",
       "      <td>124.0</td>\n",
       "    </tr>\n",
       "    <tr>\n",
       "      <th>14</th>\n",
       "      <td>NaN</td>\n",
       "      <td>NaN</td>\n",
       "      <td>47.0%</td>\n",
       "      <td>41.7%</td>\n",
       "      <td>79.5%</td>\n",
       "      <td>NaN</td>\n",
       "      <td>NaN</td>\n",
       "      <td>NaN</td>\n",
       "      <td>NaN</td>\n",
       "      <td>NaN</td>\n",
       "      <td>NaN</td>\n",
       "      <td>NaN</td>\n",
       "      <td>NaN</td>\n",
       "      <td>NaN</td>\n",
       "      <td>NaN</td>\n",
       "    </tr>\n",
       "  </tbody>\n",
       "</table>\n",
       "</div>"
      ],
      "text/plain": [
       "                          Starters                   MIN     FG    3PT     FT  \\\n",
       "0         W. ChandlerW. ChandlerSF                    23    2-3    1-1    0-0   \n",
       "1              J. EmbiidJ. EmbiidC                    36   8-15    3-4  16-20   \n",
       "2           B. SimmonsB. SimmonsPG                    35    5-7    0-0    3-4   \n",
       "3               M. FultzM. FultzPG                    25    2-8    0-0    1-3   \n",
       "4             J. RedickJ. RedickSG                    31  11-20    3-9    0-0   \n",
       "5           M. MuscalaM. MuscalaPF                    27   3-11   3-10    4-5   \n",
       "6            A. JohnsonA. JohnsonC                     2    0-1    0-0    0-0   \n",
       "7             L. ShametL. ShametPG                    24    3-5    2-4    2-2   \n",
       "8   T.J. McConnellT.J. McConnellPG                    14    0-4    0-2    2-2   \n",
       "9           F. KorkmazF. KorkmazSG                    22    5-9    3-6    3-3   \n",
       "10            J. BoldenJ. BoldenPF  DNP-COACH'S DECISION    NaN    NaN    NaN   \n",
       "11          D. JacksonD. JacksonPG  DNP-COACH'S DECISION    NaN    NaN    NaN   \n",
       "12            S. MiltonS. MiltonSG  DNP-COACH'S DECISION    NaN    NaN    NaN   \n",
       "13                            TEAM                   NaN  39-83  15-36  31-39   \n",
       "14                             NaN                   NaN  47.0%  41.7%  79.5%   \n",
       "\n",
       "    OREB  DREB   REB   AST  STL  BLK   TO    PF   +/-    PTS  \n",
       "0    1.0   0.0   1.0   3.0  1.0  0.0  2.0   2.0   6.0    5.0  \n",
       "1    6.0  12.0  18.0   3.0  0.0  0.0  2.0   1.0  12.0   35.0  \n",
       "2    2.0   5.0   7.0   7.0  1.0  0.0  4.0   0.0  20.0   13.0  \n",
       "3    0.0   2.0   2.0   5.0  0.0  0.0  0.0   2.0  -7.0    5.0  \n",
       "4    0.0   1.0   1.0   3.0  0.0  0.0  1.0   4.0  11.0   25.0  \n",
       "5    0.0   8.0   8.0   1.0  0.0  0.0  0.0   4.0   4.0   13.0  \n",
       "6    0.0   0.0   0.0   1.0  0.0  0.0  0.0   1.0   2.0    0.0  \n",
       "7    0.0   0.0   0.0   1.0  0.0  0.0  0.0   4.0  10.0   10.0  \n",
       "8    0.0   1.0   1.0   0.0  2.0  0.0  0.0   1.0 -15.0    2.0  \n",
       "9    1.0   3.0   4.0   0.0  1.0  0.0  0.0   5.0   7.0   16.0  \n",
       "10   NaN   NaN   NaN   NaN  NaN  NaN  NaN   NaN   NaN    NaN  \n",
       "11   NaN   NaN   NaN   NaN  NaN  NaN  NaN   NaN   NaN    NaN  \n",
       "12   NaN   NaN   NaN   NaN  NaN  NaN  NaN   NaN   NaN    NaN  \n",
       "13  10.0  32.0  42.0  24.0  5.0  0.0  9.0  24.0   NaN  124.0  \n",
       "14   NaN   NaN   NaN   NaN  NaN  NaN  NaN   NaN   NaN    NaN  "
      ]
     },
     "execution_count": 181,
     "metadata": {},
     "output_type": "execute_result"
    }
   ],
   "source": [
    "seventy6ers"
   ]
  },
  {
   "cell_type": "code",
   "execution_count": null,
   "metadata": {},
   "outputs": [],
   "source": []
  },
  {
   "cell_type": "code",
   "execution_count": null,
   "metadata": {},
   "outputs": [],
   "source": []
  },
  {
   "cell_type": "code",
   "execution_count": null,
   "metadata": {},
   "outputs": [],
   "source": []
  },
  {
   "cell_type": "markdown",
   "metadata": {},
   "source": [
    "### Resources"
   ]
  },
  {
   "cell_type": "code",
   "execution_count": 15,
   "metadata": {},
   "outputs": [],
   "source": [
    "box_score = 'http://www.espn.com/nba/boxscore?gameId=401070872'\n",
    "\n",
    "list_of_msas = 'https://en.wikipedia.org/wiki/List_of_metropolitan_statistical_areas'"
   ]
  },
  {
   "cell_type": "markdown",
   "metadata": {},
   "source": [
    "* presidential heights"
   ]
  }
 ],
 "metadata": {
  "kernelspec": {
   "display_name": "Python 3",
   "language": "python",
   "name": "python3"
  },
  "language_info": {
   "codemirror_mode": {
    "name": "ipython",
    "version": 3
   },
   "file_extension": ".py",
   "mimetype": "text/x-python",
   "name": "python",
   "nbconvert_exporter": "python",
   "pygments_lexer": "ipython3",
   "version": "3.7.0"
  }
 },
 "nbformat": 4,
 "nbformat_minor": 2
}
